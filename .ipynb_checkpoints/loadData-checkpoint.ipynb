{
 "cells": [
  {
   "cell_type": "markdown",
   "metadata": {},
   "source": [
    "This function is for data loading."
   ]
  },
  {
   "cell_type": "code",
   "execution_count": 125,
   "metadata": {},
   "outputs": [],
   "source": [
    "import csv\n",
    "from numpy import *"
   ]
  },
  {
   "cell_type": "code",
   "execution_count": 126,
   "metadata": {},
   "outputs": [],
   "source": [
    "def toInt(array):\n",
    "    array=mat(array)\n",
    "    m,n=shape(array)\n",
    "    print(n)\n",
    "    newArray=zeros((m,n),int)\n",
    "    for i in range(m):\n",
    "        for j in range(n):\n",
    "                newArray[i,j]=int(array[i,j])\n",
    "    return newArray"
   ]
  },
  {
   "cell_type": "code",
   "execution_count": 127,
   "metadata": {},
   "outputs": [],
   "source": [
    "def nomalizing(array):\n",
    "    m,n=shape(array)\n",
    "    for i in range(m):\n",
    "        for j in range(n):\n",
    "            if array[i,j]!=0:\n",
    "                array[i,j]=1\n",
    "    return array"
   ]
  },
  {
   "cell_type": "code",
   "execution_count": 128,
   "metadata": {},
   "outputs": [],
   "source": [
    "def loadTrainData():\n",
    "    l=[]\n",
    "    with open('DataSet/train.csv') as file:\n",
    "         lines=csv.reader(file)\n",
    "         for line in lines:\n",
    "             l.append(line) #42001*785\n",
    "    l.remove(l[0])\n",
    "    l=array(l)\n",
    "    label=l[:,0]\n",
    "    data=l[:,1:]\n",
    "    return nomalizing(toInt(data)),toInt(label)"
   ]
  },
  {
   "cell_type": "code",
   "execution_count": 129,
   "metadata": {},
   "outputs": [],
   "source": [
    "def loadTestData():\n",
    "    l=[]\n",
    "    with open('DataSet/test.csv') as file:\n",
    "         lines=csv.reader(file)\n",
    "         for line in lines:\n",
    "             l.append(line)#28001*784\n",
    "    l.remove(l[0])\n",
    "    data=array(l)\n",
    "    return nomalizing(toInt(data))  #  data 28000*784\n",
    "    #return testData"
   ]
  },
  {
   "cell_type": "code",
   "execution_count": 130,
   "metadata": {},
   "outputs": [],
   "source": [
    "def loadTestResult():\n",
    "    l=[]\n",
    "    with open('DataSet/sample_submission.csv') as file:\n",
    "         lines=csv.reader(file)\n",
    "         for line in lines:\n",
    "             l.append(line)#28001*2\n",
    "    l.remove(l[0])\n",
    "    label=array(l)\n",
    "    return toInt(label[:,1])  #  label 28000*1"
   ]
  },
  {
   "cell_type": "code",
   "execution_count": 131,
   "metadata": {},
   "outputs": [],
   "source": [
    "def classify(inX, dataSet, labels, k):\n",
    "    inX=mat(inX)\n",
    "    dataSet=mat(dataSet)\n",
    "    labels=mat(labels)\n",
    "    dataSetSize = dataSet.shape[0]                  \n",
    "    diffMat = tile(inX, (dataSetSize,1)) - dataSet   \n",
    "#     sqDiffMat = array(diffMat)**2\n",
    "#     sqDistances = sqDiffMat.sum(axis=1)  \n",
    "#     distances = sqDistances**0.5\n",
    "    distances = linalg.norm(diffMat,ord = 2, axis = 1)\n",
    "    \n",
    "    sortedDistIndicies = distances.argsort()            \n",
    "    classCount={}                                      \n",
    "    for i in range(k):\n",
    "        voteIlabel = labels[0,sortedDistIndicies[i]]\n",
    "        classCount[voteIlabel] = classCount.get(voteIlabel,0) + 1\n",
    "    sortedClassCount = sorted(classCount.items(), key=lambda item:item[1], reverse=True)\n",
    "    return sortedClassCount[0][0]"
   ]
  },
  {
   "cell_type": "code",
   "execution_count": null,
   "metadata": {},
   "outputs": [],
   "source": [
    "#result是结果列表 \n",
    "#csvName是存放结果的csv文件名\n",
    "def saveResult(result,csvName):\n",
    "    with open(csvName,'wb') as myFile:    \n",
    "        myWriter=csv.writer(myFile)\n",
    "        for i in result:\n",
    "            tmp=[]\n",
    "            tmp.append(i)\n",
    "            myWriter.writerow(tmp) "
   ]
  },
  {
   "cell_type": "code",
   "execution_count": 138,
   "metadata": {},
   "outputs": [],
   "source": [
    "def fun():\n",
    "    x1 = array([1,3,4,4,4,4])\n",
    "    x1\n",
    "\n",
    "    classCount = {}\n",
    "    classCount[5] = 2\n",
    "    classCount[4] = 4\n",
    "    print(classCount)\n",
    "    print(classCount.items())\n",
    "    sorte = sorted(classCount.items(), key=lambda item:item[1], reverse=True)\n",
    "    sorte"
   ]
  }
 ],
 "metadata": {
  "kernelspec": {
   "display_name": "Python 3",
   "language": "python",
   "name": "python3"
  },
  "language_info": {
   "codemirror_mode": {
    "name": "ipython",
    "version": 3
   },
   "file_extension": ".py",
   "mimetype": "text/x-python",
   "name": "python",
   "nbconvert_exporter": "python",
   "pygments_lexer": "ipython3",
   "version": "3.6.4"
  }
 },
 "nbformat": 4,
 "nbformat_minor": 2
}
