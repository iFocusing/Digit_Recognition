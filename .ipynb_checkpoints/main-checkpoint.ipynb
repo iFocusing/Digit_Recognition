{
 "cells": [
  {
   "cell_type": "code",
   "execution_count": 23,
   "metadata": {},
   "outputs": [],
   "source": [
    "import Ipynb_importer\n",
    "import loadData as ld\n",
    "from numpy import *"
   ]
  },
  {
   "cell_type": "code",
   "execution_count": 28,
   "metadata": {},
   "outputs": [],
   "source": [
    "def digit_Recognition():\n",
    "    \n",
    "    trainDate,trainLabel = ld.loadTrainData()\n",
    "    testDate = ld.loadTestData()\n",
    "    testLable = ld.loadTestResult()\n",
    "\n",
    "    m,n = shape(testDate)\n",
    "    errorCount=0\n",
    "    resultList=[]\n",
    "    type(resultList)\n",
    "    for i in range(m):\n",
    "        testResult = ld.classify(testDate[i],trainDate,trainLabel,5)\n",
    "        resultList.append(testResult)\n",
    "        print(\"the classifier come back with %d, and the real label is %d\" %(testResult, testLable[0,i]))\n",
    "        if (testResult != testLabel[0,i]): \n",
    "            errorCount =+ 1.0\n",
    "    print(\"\\nthe total number of error is %d\" %errorCount)\n",
    "    print(\"\\nthe error rate is %f\" % (errorCount/float(m)))\n",
    "    ld.saveResult(resultList)\n",
    "    print(resultList)"
   ]
  },
  {
   "cell_type": "code",
   "execution_count": 29,
   "metadata": {},
   "outputs": [
    {
     "name": "stdout",
     "output_type": "stream",
     "text": [
      "784\n",
      "42000\n",
      "784\n",
      "28000\n",
      "the classifier come back with 2, and the real label is 0\n"
     ]
    },
    {
     "ename": "NameError",
     "evalue": "name 'testLabel' is not defined",
     "output_type": "error",
     "traceback": [
      "\u001b[0;31m---------------------------------------------------------------------------\u001b[0m",
      "\u001b[0;31mNameError\u001b[0m                                 Traceback (most recent call last)",
      "\u001b[0;32m<ipython-input-29-5933faebd310>\u001b[0m in \u001b[0;36m<module>\u001b[0;34m()\u001b[0m\n\u001b[0;32m----> 1\u001b[0;31m \u001b[0mdigit_Recognition\u001b[0m\u001b[0;34m(\u001b[0m\u001b[0;34m)\u001b[0m\u001b[0;34m\u001b[0m\u001b[0m\n\u001b[0m",
      "\u001b[0;32m<ipython-input-28-9871ddd9c3ed>\u001b[0m in \u001b[0;36mdigit_Recognition\u001b[0;34m()\u001b[0m\n\u001b[1;32m     13\u001b[0m         \u001b[0mresultList\u001b[0m\u001b[0;34m.\u001b[0m\u001b[0mappend\u001b[0m\u001b[0;34m(\u001b[0m\u001b[0mtestResult\u001b[0m\u001b[0;34m)\u001b[0m\u001b[0;34m\u001b[0m\u001b[0m\n\u001b[1;32m     14\u001b[0m         \u001b[0mprint\u001b[0m\u001b[0;34m(\u001b[0m\u001b[0;34m\"the classifier come back with %d, and the real label is %d\"\u001b[0m \u001b[0;34m%\u001b[0m\u001b[0;34m(\u001b[0m\u001b[0mtestResult\u001b[0m\u001b[0;34m,\u001b[0m \u001b[0mtestLable\u001b[0m\u001b[0;34m[\u001b[0m\u001b[0;36m0\u001b[0m\u001b[0;34m,\u001b[0m\u001b[0mi\u001b[0m\u001b[0;34m]\u001b[0m\u001b[0;34m)\u001b[0m\u001b[0;34m)\u001b[0m\u001b[0;34m\u001b[0m\u001b[0m\n\u001b[0;32m---> 15\u001b[0;31m         \u001b[0;32mif\u001b[0m \u001b[0;34m(\u001b[0m\u001b[0mtestResult\u001b[0m \u001b[0;34m!=\u001b[0m \u001b[0mtestLabel\u001b[0m\u001b[0;34m[\u001b[0m\u001b[0mi\u001b[0m\u001b[0;34m]\u001b[0m\u001b[0;34m)\u001b[0m\u001b[0;34m:\u001b[0m\u001b[0;34m\u001b[0m\u001b[0m\n\u001b[0m\u001b[1;32m     16\u001b[0m             \u001b[0merrorCount\u001b[0m \u001b[0;34m=\u001b[0m\u001b[0;34m+\u001b[0m \u001b[0;36m1.0\u001b[0m\u001b[0;34m\u001b[0m\u001b[0m\n\u001b[1;32m     17\u001b[0m     \u001b[0mprint\u001b[0m\u001b[0;34m(\u001b[0m\u001b[0;34m\"\\nthe total number of error is %d\"\u001b[0m \u001b[0;34m%\u001b[0m\u001b[0merrorCount\u001b[0m\u001b[0;34m)\u001b[0m\u001b[0;34m\u001b[0m\u001b[0m\n",
      "\u001b[0;31mNameError\u001b[0m: name 'testLabel' is not defined"
     ]
    }
   ],
   "source": [
    "digit_Recognition()"
   ]
  },
  {
   "cell_type": "code",
   "execution_count": null,
   "metadata": {},
   "outputs": [],
   "source": []
  }
 ],
 "metadata": {
  "kernelspec": {
   "display_name": "Python 3",
   "language": "python",
   "name": "python3"
  },
  "language_info": {
   "codemirror_mode": {
    "name": "ipython",
    "version": 3
   },
   "file_extension": ".py",
   "mimetype": "text/x-python",
   "name": "python",
   "nbconvert_exporter": "python",
   "pygments_lexer": "ipython3",
   "version": "3.6.4"
  }
 },
 "nbformat": 4,
 "nbformat_minor": 2
}
